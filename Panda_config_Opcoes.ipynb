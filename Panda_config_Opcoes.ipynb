{
 "cells": [
  {
   "cell_type": "markdown",
   "id": "fedbb288",
   "metadata": {},
   "source": [
    "### importar pandas"
   ]
  },
  {
   "cell_type": "code",
   "execution_count": 5,
   "id": "055b9b39",
   "metadata": {},
   "outputs": [],
   "source": [
    "import pandas as pd"
   ]
  },
  {
   "cell_type": "markdown",
   "id": "8ce4a76d",
   "metadata": {},
   "source": [
    "### lista de dados"
   ]
  },
  {
   "cell_type": "code",
   "execution_count": 6,
   "id": "80772513",
   "metadata": {},
   "outputs": [],
   "source": [
    "emissions = pd.DataFrame({\"country\": ['China', 'United States', 'India'],\n",
    "                         \"year\": ['2018', '2018', '2018'],\n",
    "                         \"co2_emissions\": [10060000000.0, 54100000000.0, 26500000000.0]})"
   ]
  },
  {
   "cell_type": "code",
   "execution_count": 7,
   "id": "78d6e7f5",
   "metadata": {},
   "outputs": [
    {
     "data": {
      "text/html": [
       "<div>\n",
       "<style scoped>\n",
       "    .dataframe tbody tr th:only-of-type {\n",
       "        vertical-align: middle;\n",
       "    }\n",
       "\n",
       "    .dataframe tbody tr th {\n",
       "        vertical-align: top;\n",
       "    }\n",
       "\n",
       "    .dataframe thead th {\n",
       "        text-align: right;\n",
       "    }\n",
       "</style>\n",
       "<table border=\"1\" class=\"dataframe\">\n",
       "  <thead>\n",
       "    <tr style=\"text-align: right;\">\n",
       "      <th></th>\n",
       "      <th>country</th>\n",
       "      <th>year</th>\n",
       "      <th>co2_emissions</th>\n",
       "    </tr>\n",
       "  </thead>\n",
       "  <tbody>\n",
       "    <tr>\n",
       "      <th>0</th>\n",
       "      <td>China</td>\n",
       "      <td>2018</td>\n",
       "      <td>1.006000e+10</td>\n",
       "    </tr>\n",
       "    <tr>\n",
       "      <th>1</th>\n",
       "      <td>United States</td>\n",
       "      <td>2018</td>\n",
       "      <td>5.410000e+10</td>\n",
       "    </tr>\n",
       "    <tr>\n",
       "      <th>2</th>\n",
       "      <td>India</td>\n",
       "      <td>2018</td>\n",
       "      <td>2.650000e+10</td>\n",
       "    </tr>\n",
       "  </tbody>\n",
       "</table>\n",
       "</div>"
      ],
      "text/plain": [
       "         country  year  co2_emissions\n",
       "0          China  2018   1.006000e+10\n",
       "1  United States  2018   5.410000e+10\n",
       "2          India  2018   2.650000e+10"
      ]
     },
     "execution_count": 7,
     "metadata": {},
     "output_type": "execute_result"
    }
   ],
   "source": [
    "emissions"
   ]
  },
  {
   "cell_type": "markdown",
   "id": "49b5e7b6",
   "metadata": {},
   "source": [
    "### definindo a quantidade de linhas a serem exibidas com set_options('display.max_rows', tam)"
   ]
  },
  {
   "cell_type": "code",
   "execution_count": 10,
   "id": "13926d7c",
   "metadata": {},
   "outputs": [
    {
     "data": {
      "text/html": [
       "<div>\n",
       "<style scoped>\n",
       "    .dataframe tbody tr th:only-of-type {\n",
       "        vertical-align: middle;\n",
       "    }\n",
       "\n",
       "    .dataframe tbody tr th {\n",
       "        vertical-align: top;\n",
       "    }\n",
       "\n",
       "    .dataframe thead th {\n",
       "        text-align: right;\n",
       "    }\n",
       "</style>\n",
       "<table border=\"1\" class=\"dataframe\">\n",
       "  <thead>\n",
       "    <tr style=\"text-align: right;\">\n",
       "      <th></th>\n",
       "      <th>country</th>\n",
       "      <th>year</th>\n",
       "      <th>co2_emissions</th>\n",
       "    </tr>\n",
       "  </thead>\n",
       "  <tbody>\n",
       "    <tr>\n",
       "      <th>0</th>\n",
       "      <td>China</td>\n",
       "      <td>2018</td>\n",
       "      <td>1.006000e+10</td>\n",
       "    </tr>\n",
       "    <tr>\n",
       "      <th>...</th>\n",
       "      <td>...</td>\n",
       "      <td>...</td>\n",
       "      <td>...</td>\n",
       "    </tr>\n",
       "    <tr>\n",
       "      <th>2</th>\n",
       "      <td>India</td>\n",
       "      <td>2018</td>\n",
       "      <td>2.650000e+10</td>\n",
       "    </tr>\n",
       "  </tbody>\n",
       "</table>\n",
       "<p>3 rows × 3 columns</p>\n",
       "</div>"
      ],
      "text/plain": [
       "   country  year  co2_emissions\n",
       "0    China  2018   1.006000e+10\n",
       "..     ...   ...            ...\n",
       "2    India  2018   2.650000e+10\n",
       "\n",
       "[3 rows x 3 columns]"
      ]
     },
     "execution_count": 10,
     "metadata": {},
     "output_type": "execute_result"
    }
   ],
   "source": [
    "pd.set_option('display.max_rows', 2)\n",
    "emissions"
   ]
  },
  {
   "cell_type": "markdown",
   "id": "584f0a1c",
   "metadata": {},
   "source": [
    "### definindo o formato decimal de como será exibido os valores"
   ]
  },
  {
   "cell_type": "code",
   "execution_count": 11,
   "id": "2199f3a0",
   "metadata": {},
   "outputs": [],
   "source": [
    "pd.options.display.float_format = '{:,.2f}'.format"
   ]
  },
  {
   "cell_type": "code",
   "execution_count": 12,
   "id": "e4b8fdaf",
   "metadata": {},
   "outputs": [
    {
     "data": {
      "text/html": [
       "<div>\n",
       "<style scoped>\n",
       "    .dataframe tbody tr th:only-of-type {\n",
       "        vertical-align: middle;\n",
       "    }\n",
       "\n",
       "    .dataframe tbody tr th {\n",
       "        vertical-align: top;\n",
       "    }\n",
       "\n",
       "    .dataframe thead th {\n",
       "        text-align: right;\n",
       "    }\n",
       "</style>\n",
       "<table border=\"1\" class=\"dataframe\">\n",
       "  <thead>\n",
       "    <tr style=\"text-align: right;\">\n",
       "      <th></th>\n",
       "      <th>country</th>\n",
       "      <th>year</th>\n",
       "      <th>co2_emissions</th>\n",
       "    </tr>\n",
       "  </thead>\n",
       "  <tbody>\n",
       "    <tr>\n",
       "      <th>0</th>\n",
       "      <td>China</td>\n",
       "      <td>2018</td>\n",
       "      <td>10,060,000,000.00</td>\n",
       "    </tr>\n",
       "    <tr>\n",
       "      <th>...</th>\n",
       "      <td>...</td>\n",
       "      <td>...</td>\n",
       "      <td>...</td>\n",
       "    </tr>\n",
       "    <tr>\n",
       "      <th>2</th>\n",
       "      <td>India</td>\n",
       "      <td>2018</td>\n",
       "      <td>26,500,000,000.00</td>\n",
       "    </tr>\n",
       "  </tbody>\n",
       "</table>\n",
       "<p>3 rows × 3 columns</p>\n",
       "</div>"
      ],
      "text/plain": [
       "   country  year     co2_emissions\n",
       "0    China  2018 10,060,000,000.00\n",
       "..     ...   ...               ...\n",
       "2    India  2018 26,500,000,000.00\n",
       "\n",
       "[3 rows x 3 columns]"
      ]
     },
     "execution_count": 12,
     "metadata": {},
     "output_type": "execute_result"
    }
   ],
   "source": [
    "emissions"
   ]
  }
 ],
 "metadata": {
  "kernelspec": {
   "display_name": "Python 3 (ipykernel)",
   "language": "python",
   "name": "python3"
  },
  "language_info": {
   "codemirror_mode": {
    "name": "ipython",
    "version": 3
   },
   "file_extension": ".py",
   "mimetype": "text/x-python",
   "name": "python",
   "nbconvert_exporter": "python",
   "pygments_lexer": "ipython3",
   "version": "3.10.6"
  }
 },
 "nbformat": 4,
 "nbformat_minor": 5
}
