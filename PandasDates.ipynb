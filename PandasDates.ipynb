{
 "cells": [
  {
   "cell_type": "markdown",
   "id": "f671fc57",
   "metadata": {},
   "source": [
    "# <center>Trabalhando com Datas</center>"
   ]
  },
  {
   "cell_type": "markdown",
   "id": "afc26e97",
   "metadata": {},
   "source": [
    "### importando pandas"
   ]
  },
  {
   "cell_type": "code",
   "execution_count": 25,
   "id": "53450367",
   "metadata": {},
   "outputs": [],
   "source": [
    "import pandas as pd"
   ]
  },
  {
   "cell_type": "markdown",
   "id": "1f167e62",
   "metadata": {},
   "source": [
    "### gerar quatro períodos de datas com uma frequência de 30 dias"
   ]
  },
  {
   "cell_type": "code",
   "execution_count": 26,
   "id": "2f26ffcd",
   "metadata": {},
   "outputs": [],
   "source": [
    "daterange = pd.period_range('1/1/2023', freq='30d', periods=4)"
   ]
  },
  {
   "cell_type": "markdown",
   "id": "fae2c88d",
   "metadata": {},
   "source": [
    "### irá gerar um dataframe com uma coluna 'sample date' com um intervalo de 30 dias"
   ]
  },
  {
   "cell_type": "code",
   "execution_count": 27,
   "id": "0bae38a5",
   "metadata": {},
   "outputs": [
    {
     "data": {
      "text/html": [
       "<div>\n",
       "<style scoped>\n",
       "    .dataframe tbody tr th:only-of-type {\n",
       "        vertical-align: middle;\n",
       "    }\n",
       "\n",
       "    .dataframe tbody tr th {\n",
       "        vertical-align: top;\n",
       "    }\n",
       "\n",
       "    .dataframe thead th {\n",
       "        text-align: right;\n",
       "    }\n",
       "</style>\n",
       "<table border=\"1\" class=\"dataframe\">\n",
       "  <thead>\n",
       "    <tr style=\"text-align: right;\">\n",
       "      <th></th>\n",
       "      <th>sample date</th>\n",
       "    </tr>\n",
       "  </thead>\n",
       "  <tbody>\n",
       "    <tr>\n",
       "      <th>0</th>\n",
       "      <td>2023-01-01</td>\n",
       "    </tr>\n",
       "    <tr>\n",
       "      <th>1</th>\n",
       "      <td>2023-01-31</td>\n",
       "    </tr>\n",
       "    <tr>\n",
       "      <th>2</th>\n",
       "      <td>2023-03-02</td>\n",
       "    </tr>\n",
       "    <tr>\n",
       "      <th>3</th>\n",
       "      <td>2023-04-01</td>\n",
       "    </tr>\n",
       "  </tbody>\n",
       "</table>\n",
       "</div>"
      ],
      "text/plain": [
       "  sample date\n",
       "0  2023-01-01\n",
       "1  2023-01-31\n",
       "2  2023-03-02\n",
       "3  2023-04-01"
      ]
     },
     "execution_count": 27,
     "metadata": {},
     "output_type": "execute_result"
    }
   ],
   "source": [
    "date_df = pd.DataFrame(data=daterange, columns=['sample date'])\n",
    "date_df"
   ]
  },
  {
   "cell_type": "markdown",
   "id": "cf168d13",
   "metadata": {},
   "source": [
    "### dirença entre períodos de datas"
   ]
  },
  {
   "cell_type": "code",
   "execution_count": 28,
   "id": "7c43e895",
   "metadata": {},
   "outputs": [
    {
     "data": {
      "text/html": [
       "<div>\n",
       "<style scoped>\n",
       "    .dataframe tbody tr th:only-of-type {\n",
       "        vertical-align: middle;\n",
       "    }\n",
       "\n",
       "    .dataframe tbody tr th {\n",
       "        vertical-align: top;\n",
       "    }\n",
       "\n",
       "    .dataframe thead th {\n",
       "        text-align: right;\n",
       "    }\n",
       "</style>\n",
       "<table border=\"1\" class=\"dataframe\">\n",
       "  <thead>\n",
       "    <tr style=\"text-align: right;\">\n",
       "      <th></th>\n",
       "      <th>sample date</th>\n",
       "      <th>date difference</th>\n",
       "    </tr>\n",
       "  </thead>\n",
       "  <tbody>\n",
       "    <tr>\n",
       "      <th>0</th>\n",
       "      <td>2023-01-01</td>\n",
       "      <td>NaT</td>\n",
       "    </tr>\n",
       "    <tr>\n",
       "      <th>1</th>\n",
       "      <td>2023-01-31</td>\n",
       "      <td>&lt;30 * Days&gt;</td>\n",
       "    </tr>\n",
       "    <tr>\n",
       "      <th>2</th>\n",
       "      <td>2023-03-02</td>\n",
       "      <td>&lt;30 * Days&gt;</td>\n",
       "    </tr>\n",
       "    <tr>\n",
       "      <th>3</th>\n",
       "      <td>2023-04-01</td>\n",
       "      <td>&lt;30 * Days&gt;</td>\n",
       "    </tr>\n",
       "  </tbody>\n",
       "</table>\n",
       "</div>"
      ],
      "text/plain": [
       "  sample date date difference\n",
       "0  2023-01-01             NaT\n",
       "1  2023-01-31     <30 * Days>\n",
       "2  2023-03-02     <30 * Days>\n",
       "3  2023-04-01     <30 * Days>"
      ]
     },
     "execution_count": 28,
     "metadata": {},
     "output_type": "execute_result"
    }
   ],
   "source": [
    "date_df['date difference'] = date_df['sample date'].diff(periods=1)\n",
    "date_df"
   ]
  },
  {
   "cell_type": "markdown",
   "id": "ed65baa9",
   "metadata": {},
   "source": [
    "### primeiro dia do mês"
   ]
  },
  {
   "cell_type": "code",
   "execution_count": 29,
   "id": "e1da4086",
   "metadata": {},
   "outputs": [
    {
     "data": {
      "text/html": [
       "<div>\n",
       "<style scoped>\n",
       "    .dataframe tbody tr th:only-of-type {\n",
       "        vertical-align: middle;\n",
       "    }\n",
       "\n",
       "    .dataframe tbody tr th {\n",
       "        vertical-align: top;\n",
       "    }\n",
       "\n",
       "    .dataframe thead th {\n",
       "        text-align: right;\n",
       "    }\n",
       "</style>\n",
       "<table border=\"1\" class=\"dataframe\">\n",
       "  <thead>\n",
       "    <tr style=\"text-align: right;\">\n",
       "      <th></th>\n",
       "      <th>sample date</th>\n",
       "      <th>date difference</th>\n",
       "      <th>first of month</th>\n",
       "    </tr>\n",
       "  </thead>\n",
       "  <tbody>\n",
       "    <tr>\n",
       "      <th>0</th>\n",
       "      <td>2023-01-01</td>\n",
       "      <td>NaT</td>\n",
       "      <td>2023-01-01</td>\n",
       "    </tr>\n",
       "    <tr>\n",
       "      <th>1</th>\n",
       "      <td>2023-01-31</td>\n",
       "      <td>&lt;30 * Days&gt;</td>\n",
       "      <td>2023-01-01</td>\n",
       "    </tr>\n",
       "    <tr>\n",
       "      <th>2</th>\n",
       "      <td>2023-03-02</td>\n",
       "      <td>&lt;30 * Days&gt;</td>\n",
       "      <td>2023-03-01</td>\n",
       "    </tr>\n",
       "    <tr>\n",
       "      <th>3</th>\n",
       "      <td>2023-04-01</td>\n",
       "      <td>&lt;30 * Days&gt;</td>\n",
       "      <td>2023-04-01</td>\n",
       "    </tr>\n",
       "  </tbody>\n",
       "</table>\n",
       "</div>"
      ],
      "text/plain": [
       "  sample date date difference first of month\n",
       "0  2023-01-01             NaT     2023-01-01\n",
       "1  2023-01-31     <30 * Days>     2023-01-01\n",
       "2  2023-03-02     <30 * Days>     2023-03-01\n",
       "3  2023-04-01     <30 * Days>     2023-04-01"
      ]
     },
     "execution_count": 29,
     "metadata": {},
     "output_type": "execute_result"
    }
   ],
   "source": [
    "date_df['first of month'] = date_df['sample date'].values.astype('datetime64[M]')\n",
    "date_df"
   ]
  },
  {
   "cell_type": "markdown",
   "id": "c518a54d",
   "metadata": {},
   "source": [
    "### verificando os tipos de dados"
   ]
  },
  {
   "cell_type": "code",
   "execution_count": 30,
   "id": "8bf5a75e",
   "metadata": {},
   "outputs": [
    {
     "data": {
      "text/plain": [
       "sample date          period[30D]\n",
       "date difference           object\n",
       "first of month     datetime64[s]\n",
       "dtype: object"
      ]
     },
     "execution_count": 30,
     "metadata": {},
     "output_type": "execute_result"
    }
   ],
   "source": [
    "date_df.dtypes"
   ]
  },
  {
   "cell_type": "markdown",
   "id": "4c01779f",
   "metadata": {},
   "source": [
    "### convertendo 'sample date' para timestamp com to_timestamp()"
   ]
  },
  {
   "cell_type": "code",
   "execution_count": 31,
   "id": "3d3bf53c",
   "metadata": {},
   "outputs": [
    {
     "data": {
      "text/plain": [
       "sample date        datetime64[ns]\n",
       "date difference            object\n",
       "first of month      datetime64[s]\n",
       "dtype: object"
      ]
     },
     "execution_count": 31,
     "metadata": {},
     "output_type": "execute_result"
    }
   ],
   "source": [
    "date_df['sample date'] = date_df['sample date'].dt.to_timestamp()\n",
    "date_df.dtypes"
   ]
  },
  {
   "cell_type": "markdown",
   "id": "1bc255eb",
   "metadata": {},
   "source": [
    "### subtração de datas"
   ]
  },
  {
   "cell_type": "code",
   "execution_count": 32,
   "id": "8ad930e1",
   "metadata": {},
   "outputs": [
    {
     "data": {
      "text/plain": [
       "0    0 days\n",
       "1   30 days\n",
       "2    1 days\n",
       "3    0 days\n",
       "dtype: timedelta64[ns]"
      ]
     },
     "execution_count": 32,
     "metadata": {},
     "output_type": "execute_result"
    }
   ],
   "source": [
    "date_df['sample date'] - date_df['first of month']"
   ]
  },
  {
   "cell_type": "code",
   "execution_count": 33,
   "id": "0b857195",
   "metadata": {},
   "outputs": [
    {
     "name": "stderr",
     "output_type": "stream",
     "text": [
      "/tmp/ipykernel_7747/608647980.py:1: PerformanceWarning: Adding/subtracting object-dtype array to DatetimeArray not vectorized.\n",
      "  date_df['sample date'] - date_df['date difference']\n"
     ]
    },
    {
     "data": {
      "text/plain": [
       "0                    NaT\n",
       "1    2023-01-01 00:00:00\n",
       "2    2023-01-31 00:00:00\n",
       "3    2023-03-02 00:00:00\n",
       "dtype: object"
      ]
     },
     "execution_count": 33,
     "metadata": {},
     "output_type": "execute_result"
    }
   ],
   "source": [
    "date_df['sample date'] - date_df['date difference']"
   ]
  },
  {
   "cell_type": "code",
   "execution_count": 34,
   "id": "df50428f",
   "metadata": {},
   "outputs": [
    {
     "data": {
      "text/plain": [
       "0   2022-12-02\n",
       "1   2023-01-01\n",
       "2   2023-01-31\n",
       "3   2023-03-02\n",
       "Name: sample date, dtype: datetime64[ns]"
      ]
     },
     "execution_count": 34,
     "metadata": {},
     "output_type": "execute_result"
    }
   ],
   "source": [
    "date_df['sample date'] - pd.Timedelta('30 d')"
   ]
  },
  {
   "cell_type": "markdown",
   "id": "15afa392",
   "metadata": {},
   "source": [
    "### mais propriedades com dt"
   ]
  },
  {
   "cell_type": "code",
   "execution_count": 35,
   "id": "4f4bf2a1",
   "metadata": {},
   "outputs": [
    {
     "data": {
      "text/plain": [
       "0      Sunday\n",
       "1     Tuesday\n",
       "2    Thursday\n",
       "3    Saturday\n",
       "Name: sample date, dtype: object"
      ]
     },
     "execution_count": 35,
     "metadata": {},
     "output_type": "execute_result"
    }
   ],
   "source": [
    "date_df['sample date'].dt.day_name()"
   ]
  }
 ],
 "metadata": {
  "kernelspec": {
   "display_name": "Python 3 (ipykernel)",
   "language": "python",
   "name": "python3"
  },
  "language_info": {
   "codemirror_mode": {
    "name": "ipython",
    "version": 3
   },
   "file_extension": ".py",
   "mimetype": "text/x-python",
   "name": "python",
   "nbconvert_exporter": "python",
   "pygments_lexer": "ipython3",
   "version": "3.10.6"
  }
 },
 "nbformat": 4,
 "nbformat_minor": 5
}
