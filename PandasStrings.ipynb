{
 "cells": [
  {
   "cell_type": "markdown",
   "id": "be52fc8c",
   "metadata": {},
   "source": [
    "### importando pandas"
   ]
  },
  {
   "cell_type": "code",
   "execution_count": 1,
   "id": "24755685",
   "metadata": {},
   "outputs": [],
   "source": [
    "import pandas as pd"
   ]
  },
  {
   "cell_type": "markdown",
   "id": "772b3607",
   "metadata": {},
   "source": [
    "### definindo lista com caracteres especiais"
   ]
  },
  {
   "cell_type": "code",
   "execution_count": 3,
   "id": "52b265a0",
   "metadata": {},
   "outputs": [],
   "source": [
    "names = pd.Series(['Pomeray, CODY', 'Wagner; Jarry', 'Smith, Ray'])"
   ]
  },
  {
   "cell_type": "markdown",
   "id": "ee11ddab",
   "metadata": {},
   "source": [
    "### substituindo caracteres"
   ]
  },
  {
   "cell_type": "code",
   "execution_count": 4,
   "id": "b6e12afd",
   "metadata": {},
   "outputs": [
    {
     "data": {
      "text/plain": [
       "0    Pomeray, CODY\n",
       "1    Wagner, Jarry\n",
       "2       Smith, Ray\n",
       "dtype: object"
      ]
     },
     "execution_count": 4,
     "metadata": {},
     "output_type": "execute_result"
    }
   ],
   "source": [
    "names = names.str.replace(';', ',')\n",
    "names"
   ]
  },
  {
   "cell_type": "markdown",
   "id": "cf240dd5",
   "metadata": {},
   "source": [
    "### verificando o tamanho de cada item da lista"
   ]
  },
  {
   "cell_type": "code",
   "execution_count": 5,
   "id": "ed439655",
   "metadata": {},
   "outputs": [
    {
     "data": {
      "text/plain": [
       "0    13\n",
       "1    13\n",
       "2    10\n",
       "dtype: int64"
      ]
     },
     "execution_count": 5,
     "metadata": {},
     "output_type": "execute_result"
    }
   ],
   "source": [
    "names.str.len()"
   ]
  },
  {
   "cell_type": "markdown",
   "id": "604d7774",
   "metadata": {},
   "source": [
    "### removendo caracteres ou espaços no início e fim Ex: (' hello.') -> ('hello')"
   ]
  },
  {
   "cell_type": "code",
   "execution_count": 9,
   "id": "b6304f3f",
   "metadata": {},
   "outputs": [
    {
     "data": {
      "text/plain": [
       "0    13\n",
       "1    13\n",
       "2    10\n",
       "dtype: int64"
      ]
     },
     "execution_count": 9,
     "metadata": {},
     "output_type": "execute_result"
    }
   ],
   "source": [
    "names = names.str.strip()\n",
    "names.str.len()"
   ]
  },
  {
   "cell_type": "markdown",
   "id": "4b783b93",
   "metadata": {},
   "source": [
    "### converter string para minúsculo ou maiúsculo"
   ]
  },
  {
   "cell_type": "code",
   "execution_count": 12,
   "id": "a70b0ca4",
   "metadata": {},
   "outputs": [
    {
     "data": {
      "text/plain": [
       "0    pomeray, cody\n",
       "1    wagner, jarry\n",
       "2       smith, ray\n",
       "dtype: object"
      ]
     },
     "execution_count": 12,
     "metadata": {},
     "output_type": "execute_result"
    }
   ],
   "source": [
    "names = names.str.lower()\n",
    "names\n",
    "# minúsculo = str.upper()\n",
    "# maiúsculo = str.upper()"
   ]
  },
  {
   "cell_type": "markdown",
   "id": "5be1e08f",
   "metadata": {},
   "source": [
    "### dividir a string em torno de um separador criando uma lista"
   ]
  },
  {
   "cell_type": "code",
   "execution_count": 13,
   "id": "0c743708",
   "metadata": {},
   "outputs": [
    {
     "data": {
      "text/plain": [
       "0    [pomeray, cody]\n",
       "1    [wagner, jarry]\n",
       "2       [smith, ray]\n",
       "dtype: object"
      ]
     },
     "execution_count": 13,
     "metadata": {},
     "output_type": "execute_result"
    }
   ],
   "source": [
    "names = names.str.split(', ')\n",
    "names"
   ]
  },
  {
   "cell_type": "markdown",
   "id": "6ae2d7a1",
   "metadata": {},
   "source": [
    "### alterando a ordem de cada item/lista (inverte nome com sobrenome)"
   ]
  },
  {
   "cell_type": "code",
   "execution_count": 16,
   "id": "8e132f43",
   "metadata": {},
   "outputs": [
    {
     "data": {
      "text/plain": [
       "0    [pomeray, cody]\n",
       "1    [wagner, jarry]\n",
       "2       [smith, ray]\n",
       "dtype: object"
      ]
     },
     "execution_count": 16,
     "metadata": {},
     "output_type": "execute_result"
    }
   ],
   "source": [
    "names = pd.Series([i[::-1] for i in names])\n",
    "names"
   ]
  },
  {
   "cell_type": "markdown",
   "id": "f0d7dc8b",
   "metadata": {},
   "source": [
    "### agrupa os itens da lista concatenando-os por espaço"
   ]
  },
  {
   "cell_type": "code",
   "execution_count": 17,
   "id": "dc62d15f",
   "metadata": {},
   "outputs": [
    {
     "data": {
      "text/plain": [
       "['pomeray cody', 'wagner jarry', 'smith ray']"
      ]
     },
     "execution_count": 17,
     "metadata": {},
     "output_type": "execute_result"
    }
   ],
   "source": [
    "names = [' '.join(i) for i in names]\n",
    "names"
   ]
  }
 ],
 "metadata": {
  "kernelspec": {
   "display_name": "Python 3 (ipykernel)",
   "language": "python",
   "name": "python3"
  },
  "language_info": {
   "codemirror_mode": {
    "name": "ipython",
    "version": 3
   },
   "file_extension": ".py",
   "mimetype": "text/x-python",
   "name": "python",
   "nbconvert_exporter": "python",
   "pygments_lexer": "ipython3",
   "version": "3.10.6"
  }
 },
 "nbformat": 4,
 "nbformat_minor": 5
}
