{
 "cells": [
  {
   "cell_type": "markdown",
   "id": "a4c6ac94",
   "metadata": {},
   "source": [
    "### importação do pandas"
   ]
  },
  {
   "cell_type": "code",
   "execution_count": 2,
   "id": "ae4d6511",
   "metadata": {},
   "outputs": [],
   "source": [
    "import pandas as pd"
   ]
  },
  {
   "cell_type": "markdown",
   "id": "b772794f",
   "metadata": {},
   "source": [
    "### carregando o arquivo csv"
   ]
  },
  {
   "cell_type": "code",
   "execution_count": 3,
   "id": "68163ead",
   "metadata": {},
   "outputs": [],
   "source": [
    "planets = pd.read_csv('./planets.csv')"
   ]
  },
  {
   "cell_type": "markdown",
   "id": "6a4b9660",
   "metadata": {},
   "source": [
    "### exibindo as três primeiras linhas"
   ]
  },
  {
   "cell_type": "code",
   "execution_count": 4,
   "id": "4136ac8d",
   "metadata": {},
   "outputs": [
    {
     "data": {
      "text/html": [
       "<div>\n",
       "<style scoped>\n",
       "    .dataframe tbody tr th:only-of-type {\n",
       "        vertical-align: middle;\n",
       "    }\n",
       "\n",
       "    .dataframe tbody tr th {\n",
       "        vertical-align: top;\n",
       "    }\n",
       "\n",
       "    .dataframe thead th {\n",
       "        text-align: right;\n",
       "    }\n",
       "</style>\n",
       "<table border=\"1\" class=\"dataframe\">\n",
       "  <thead>\n",
       "    <tr style=\"text-align: right;\">\n",
       "      <th></th>\n",
       "      <th>method</th>\n",
       "      <th>number</th>\n",
       "      <th>orbital_period</th>\n",
       "      <th>mass</th>\n",
       "      <th>distance</th>\n",
       "      <th>year</th>\n",
       "    </tr>\n",
       "  </thead>\n",
       "  <tbody>\n",
       "    <tr>\n",
       "      <th>0</th>\n",
       "      <td>Radial Velocity</td>\n",
       "      <td>1</td>\n",
       "      <td>269.300</td>\n",
       "      <td>7.10</td>\n",
       "      <td>77.40</td>\n",
       "      <td>2006</td>\n",
       "    </tr>\n",
       "    <tr>\n",
       "      <th>1</th>\n",
       "      <td>Radial Velocity</td>\n",
       "      <td>1</td>\n",
       "      <td>874.774</td>\n",
       "      <td>2.21</td>\n",
       "      <td>56.95</td>\n",
       "      <td>2008</td>\n",
       "    </tr>\n",
       "    <tr>\n",
       "      <th>2</th>\n",
       "      <td>Radial Velocity</td>\n",
       "      <td>1</td>\n",
       "      <td>763.000</td>\n",
       "      <td>2.60</td>\n",
       "      <td>19.84</td>\n",
       "      <td>2011</td>\n",
       "    </tr>\n",
       "  </tbody>\n",
       "</table>\n",
       "</div>"
      ],
      "text/plain": [
       "            method  number  orbital_period  mass  distance  year\n",
       "0  Radial Velocity       1         269.300  7.10     77.40  2006\n",
       "1  Radial Velocity       1         874.774  2.21     56.95  2008\n",
       "2  Radial Velocity       1         763.000  2.60     19.84  2011"
      ]
     },
     "execution_count": 4,
     "metadata": {},
     "output_type": "execute_result"
    }
   ],
   "source": [
    "planets.head(3)"
   ]
  },
  {
   "cell_type": "markdown",
   "id": "200f4c3f",
   "metadata": {},
   "source": [
    "### verificando o tipo de cada classe"
   ]
  },
  {
   "cell_type": "code",
   "execution_count": 14,
   "id": "2d637db0",
   "metadata": {},
   "outputs": [
    {
     "data": {
      "text/plain": [
       "method             object\n",
       "number              int64\n",
       "orbital_period    float64\n",
       "mass              float64\n",
       "distance          float64\n",
       "year                int64\n",
       "dtype: object"
      ]
     },
     "execution_count": 14,
     "metadata": {},
     "output_type": "execute_result"
    }
   ],
   "source": [
    "planets.dtypes"
   ]
  },
  {
   "cell_type": "markdown",
   "id": "40a54cab",
   "metadata": {},
   "source": [
    "### média dos valores, atentar-se quanto ao tipo do dado. não aplica-se a tipos diferentes de números"
   ]
  },
  {
   "cell_type": "code",
   "execution_count": 15,
   "id": "910d6d63",
   "metadata": {},
   "outputs": [
    {
     "data": {
      "text/plain": [
       "2002.9175960947582"
      ]
     },
     "execution_count": 15,
     "metadata": {},
     "output_type": "execute_result"
    }
   ],
   "source": [
    "planets['orbital_period'].mean()"
   ]
  },
  {
   "cell_type": "markdown",
   "id": "89bc29d5",
   "metadata": {},
   "source": [
    "### divisão de dados, inteiro por float"
   ]
  },
  {
   "cell_type": "code",
   "execution_count": 16,
   "id": "e2e397ff",
   "metadata": {},
   "outputs": [
    {
     "data": {
      "text/plain": [
       "0.14084507042253522"
      ]
     },
     "execution_count": 16,
     "metadata": {},
     "output_type": "execute_result"
    }
   ],
   "source": [
    "planets['number'][0]/planets['mass'][0]"
   ]
  },
  {
   "cell_type": "markdown",
   "id": "041be3f0",
   "metadata": {},
   "source": [
    "### convertendo dado inteiro para float (astype)"
   ]
  },
  {
   "cell_type": "code",
   "execution_count": 17,
   "id": "8a84ff03",
   "metadata": {},
   "outputs": [
    {
     "data": {
      "text/plain": [
       "7.1"
      ]
     },
     "execution_count": 17,
     "metadata": {},
     "output_type": "execute_result"
    }
   ],
   "source": [
    "planets['mass'][0].astype(float)"
   ]
  },
  {
   "cell_type": "markdown",
   "id": "6e104cdb",
   "metadata": {},
   "source": [
    "### convertendo dado float para inteiro (astype)"
   ]
  },
  {
   "cell_type": "code",
   "execution_count": 18,
   "id": "9bd86cb4",
   "metadata": {},
   "outputs": [
    {
     "data": {
      "text/plain": [
       "7"
      ]
     },
     "execution_count": 18,
     "metadata": {},
     "output_type": "execute_result"
    }
   ],
   "source": [
    "planets['mass'][0].astype(int)"
   ]
  },
  {
   "cell_type": "markdown",
   "id": "338640dd",
   "metadata": {},
   "source": [
    "### convertendo dado inteiro para string (astype)"
   ]
  },
  {
   "cell_type": "code",
   "execution_count": 19,
   "id": "b369e262",
   "metadata": {},
   "outputs": [
    {
     "data": {
      "text/plain": [
       "'2006'"
      ]
     },
     "execution_count": 19,
     "metadata": {},
     "output_type": "execute_result"
    }
   ],
   "source": [
    "planets['year'][0].astype(str)"
   ]
  },
  {
   "cell_type": "markdown",
   "id": "b3306590",
   "metadata": {},
   "source": [
    "### convertendo dados em data (to_datetime)"
   ]
  },
  {
   "cell_type": "code",
   "execution_count": 21,
   "id": "faad1043",
   "metadata": {},
   "outputs": [
    {
     "data": {
      "text/plain": [
       "0      2006-01-01\n",
       "1      2008-01-01\n",
       "2      2011-01-01\n",
       "3      2007-01-01\n",
       "4      2009-01-01\n",
       "          ...    \n",
       "1030   2006-01-01\n",
       "1031   2007-01-01\n",
       "1032   2007-01-01\n",
       "1033   2008-01-01\n",
       "1034   2008-01-01\n",
       "Name: year_dt, Length: 1035, dtype: datetime64[ns]"
      ]
     },
     "execution_count": 21,
     "metadata": {},
     "output_type": "execute_result"
    }
   ],
   "source": [
    "planets['year_dt'] = pd.to_datetime(planets['year'], format='%Y')\n",
    "planets['year_dt']"
   ]
  }
 ],
 "metadata": {
  "kernelspec": {
   "display_name": "Python 3 (ipykernel)",
   "language": "python",
   "name": "python3"
  },
  "language_info": {
   "codemirror_mode": {
    "name": "ipython",
    "version": 3
   },
   "file_extension": ".py",
   "mimetype": "text/x-python",
   "name": "python",
   "nbconvert_exporter": "python",
   "pygments_lexer": "ipython3",
   "version": "3.10.6"
  }
 },
 "nbformat": 4,
 "nbformat_minor": 5
}
