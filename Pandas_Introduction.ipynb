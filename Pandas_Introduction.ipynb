{
 "cells": [
  {
   "cell_type": "markdown",
   "id": "73941eee",
   "metadata": {},
   "source": [
    "### importar pandas"
   ]
  },
  {
   "cell_type": "code",
   "execution_count": 4,
   "id": "86a42720",
   "metadata": {},
   "outputs": [],
   "source": [
    "import pandas as pd"
   ]
  },
  {
   "cell_type": "markdown",
   "id": "3c9a60ca",
   "metadata": {},
   "source": [
    "### criar lista com dados"
   ]
  },
  {
   "cell_type": "code",
   "execution_count": 5,
   "id": "63386d88",
   "metadata": {},
   "outputs": [],
   "source": [
    "scores = {\"name\": ['Ray', 'Japhy', 'Zosa'],\n",
    "         \"city\": ['San Francisco', 'San Francisco', 'Denver'],\n",
    "         \"score\": [75, 92, 94]}"
   ]
  },
  {
   "cell_type": "markdown",
   "id": "f67899f6",
   "metadata": {},
   "source": [
    "### montar o dataframe"
   ]
  },
  {
   "cell_type": "code",
   "execution_count": 6,
   "id": "ee8698f2",
   "metadata": {},
   "outputs": [],
   "source": [
    "df = pd.DataFrame(scores)"
   ]
  },
  {
   "cell_type": "markdown",
   "id": "8dcf45bc",
   "metadata": {},
   "source": [
    "### exibir os dados em tabela"
   ]
  },
  {
   "cell_type": "code",
   "execution_count": 7,
   "id": "60497aa4",
   "metadata": {},
   "outputs": [
    {
     "data": {
      "text/html": [
       "<div>\n",
       "<style scoped>\n",
       "    .dataframe tbody tr th:only-of-type {\n",
       "        vertical-align: middle;\n",
       "    }\n",
       "\n",
       "    .dataframe tbody tr th {\n",
       "        vertical-align: top;\n",
       "    }\n",
       "\n",
       "    .dataframe thead th {\n",
       "        text-align: right;\n",
       "    }\n",
       "</style>\n",
       "<table border=\"1\" class=\"dataframe\">\n",
       "  <thead>\n",
       "    <tr style=\"text-align: right;\">\n",
       "      <th></th>\n",
       "      <th>name</th>\n",
       "      <th>city</th>\n",
       "      <th>score</th>\n",
       "    </tr>\n",
       "  </thead>\n",
       "  <tbody>\n",
       "    <tr>\n",
       "      <th>0</th>\n",
       "      <td>Ray</td>\n",
       "      <td>San Francisco</td>\n",
       "      <td>75</td>\n",
       "    </tr>\n",
       "    <tr>\n",
       "      <th>1</th>\n",
       "      <td>Japhy</td>\n",
       "      <td>San Francisco</td>\n",
       "      <td>92</td>\n",
       "    </tr>\n",
       "    <tr>\n",
       "      <th>2</th>\n",
       "      <td>Zosa</td>\n",
       "      <td>Denver</td>\n",
       "      <td>94</td>\n",
       "    </tr>\n",
       "  </tbody>\n",
       "</table>\n",
       "</div>"
      ],
      "text/plain": [
       "    name           city  score\n",
       "0    Ray  San Francisco     75\n",
       "1  Japhy  San Francisco     92\n",
       "2   Zosa         Denver     94"
      ]
     },
     "execution_count": 7,
     "metadata": {},
     "output_type": "execute_result"
    }
   ],
   "source": [
    "df"
   ]
  },
  {
   "cell_type": "markdown",
   "id": "92d0259b",
   "metadata": {},
   "source": [
    "### exibir os dados de uma coluna específica"
   ]
  },
  {
   "cell_type": "code",
   "execution_count": 9,
   "id": "4030aa41",
   "metadata": {},
   "outputs": [
    {
     "data": {
      "text/plain": [
       "0    75\n",
       "1    92\n",
       "2    94\n",
       "Name: score, dtype: int64"
      ]
     },
     "execution_count": 9,
     "metadata": {},
     "output_type": "execute_result"
    }
   ],
   "source": [
    "df['score']"
   ]
  },
  {
   "cell_type": "markdown",
   "id": "0facb292",
   "metadata": {},
   "source": [
    "### criando uma nova coluna"
   ]
  },
  {
   "cell_type": "code",
   "execution_count": 11,
   "id": "b12460b0",
   "metadata": {},
   "outputs": [],
   "source": [
    "df['name-city'] = df['name'] + '_' + df['city']"
   ]
  },
  {
   "cell_type": "markdown",
   "id": "0aa6c6ab",
   "metadata": {},
   "source": [
    "### buscar dados onde os pontos são maiores que 90"
   ]
  },
  {
   "cell_type": "code",
   "execution_count": 12,
   "id": "75f576a0",
   "metadata": {},
   "outputs": [
    {
     "data": {
      "text/html": [
       "<div>\n",
       "<style scoped>\n",
       "    .dataframe tbody tr th:only-of-type {\n",
       "        vertical-align: middle;\n",
       "    }\n",
       "\n",
       "    .dataframe tbody tr th {\n",
       "        vertical-align: top;\n",
       "    }\n",
       "\n",
       "    .dataframe thead th {\n",
       "        text-align: right;\n",
       "    }\n",
       "</style>\n",
       "<table border=\"1\" class=\"dataframe\">\n",
       "  <thead>\n",
       "    <tr style=\"text-align: right;\">\n",
       "      <th></th>\n",
       "      <th>name</th>\n",
       "      <th>city</th>\n",
       "      <th>score</th>\n",
       "      <th>name-city</th>\n",
       "    </tr>\n",
       "  </thead>\n",
       "  <tbody>\n",
       "    <tr>\n",
       "      <th>1</th>\n",
       "      <td>Japhy</td>\n",
       "      <td>San Francisco</td>\n",
       "      <td>92</td>\n",
       "      <td>Japhy_San Francisco</td>\n",
       "    </tr>\n",
       "    <tr>\n",
       "      <th>2</th>\n",
       "      <td>Zosa</td>\n",
       "      <td>Denver</td>\n",
       "      <td>94</td>\n",
       "      <td>Zosa_Denver</td>\n",
       "    </tr>\n",
       "  </tbody>\n",
       "</table>\n",
       "</div>"
      ],
      "text/plain": [
       "    name           city  score            name-city\n",
       "1  Japhy  San Francisco     92  Japhy_San Francisco\n",
       "2   Zosa         Denver     94          Zosa_Denver"
      ]
     },
     "execution_count": 12,
     "metadata": {},
     "output_type": "execute_result"
    }
   ],
   "source": [
    "df[df['score'] > 90]"
   ]
  }
 ],
 "metadata": {
  "kernelspec": {
   "display_name": "Python 3 (ipykernel)",
   "language": "python",
   "name": "python3"
  },
  "language_info": {
   "codemirror_mode": {
    "name": "ipython",
    "version": 3
   },
   "file_extension": ".py",
   "mimetype": "text/x-python",
   "name": "python",
   "nbconvert_exporter": "python",
   "pygments_lexer": "ipython3",
   "version": "3.10.6"
  }
 },
 "nbformat": 4,
 "nbformat_minor": 5
}
