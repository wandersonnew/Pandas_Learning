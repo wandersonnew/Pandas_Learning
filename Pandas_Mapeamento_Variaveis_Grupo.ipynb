{
 "cells": [
  {
   "cell_type": "markdown",
   "id": "ff69ba83",
   "metadata": {},
   "source": [
    "### importanto pandas"
   ]
  },
  {
   "cell_type": "code",
   "execution_count": 3,
   "id": "f0558fba",
   "metadata": {},
   "outputs": [],
   "source": [
    "import pandas as pd"
   ]
  },
  {
   "cell_type": "code",
   "execution_count": 4,
   "id": "8b986b86",
   "metadata": {},
   "outputs": [
    {
     "data": {
      "text/html": [
       "<div>\n",
       "<style scoped>\n",
       "    .dataframe tbody tr th:only-of-type {\n",
       "        vertical-align: middle;\n",
       "    }\n",
       "\n",
       "    .dataframe tbody tr th {\n",
       "        vertical-align: top;\n",
       "    }\n",
       "\n",
       "    .dataframe thead th {\n",
       "        text-align: right;\n",
       "    }\n",
       "</style>\n",
       "<table border=\"1\" class=\"dataframe\">\n",
       "  <thead>\n",
       "    <tr style=\"text-align: right;\">\n",
       "      <th></th>\n",
       "      <th>Species</th>\n",
       "      <th>Population</th>\n",
       "      <th>Count</th>\n",
       "    </tr>\n",
       "  </thead>\n",
       "  <tbody>\n",
       "    <tr>\n",
       "      <th>0</th>\n",
       "      <td>Chinook</td>\n",
       "      <td>Skokomish</td>\n",
       "      <td>1208</td>\n",
       "    </tr>\n",
       "    <tr>\n",
       "      <th>1</th>\n",
       "      <td>Chun</td>\n",
       "      <td>Lower Skokomish</td>\n",
       "      <td>2396</td>\n",
       "    </tr>\n",
       "    <tr>\n",
       "      <th>2</th>\n",
       "      <td>Coho</td>\n",
       "      <td>Skokomish</td>\n",
       "      <td>3220</td>\n",
       "    </tr>\n",
       "    <tr>\n",
       "      <th>3</th>\n",
       "      <td>Steelhead</td>\n",
       "      <td>Skokomish</td>\n",
       "      <td>6245</td>\n",
       "    </tr>\n",
       "    <tr>\n",
       "      <th>4</th>\n",
       "      <td>Bull Trout</td>\n",
       "      <td>SF Skokomish</td>\n",
       "      <td>8216</td>\n",
       "    </tr>\n",
       "  </tbody>\n",
       "</table>\n",
       "</div>"
      ],
      "text/plain": [
       "      Species       Population  Count\n",
       "0     Chinook        Skokomish   1208\n",
       "1        Chun  Lower Skokomish   2396\n",
       "2        Coho        Skokomish   3220\n",
       "3   Steelhead        Skokomish   6245\n",
       "4  Bull Trout     SF Skokomish   8216"
      ]
     },
     "execution_count": 4,
     "metadata": {},
     "output_type": "execute_result"
    }
   ],
   "source": [
    "df = pd.DataFrame({\"Species\": ['Chinook', 'Chun', 'Coho', 'Steelhead', 'Bull Trout'],\n",
    "                  \"Population\": ['Skokomish', 'Lower Skokomish', 'Skokomish', 'Skokomish', 'SF Skokomish'],\n",
    "                  \"Count\": [1208, 2396, 3220, 6245, 8216]})\n",
    "df"
   ]
  },
  {
   "cell_type": "markdown",
   "id": "a912e97c",
   "metadata": {},
   "source": [
    "### categorizando dados numéricos com pd.cut"
   ]
  },
  {
   "cell_type": "code",
   "execution_count": 5,
   "id": "d451398b",
   "metadata": {},
   "outputs": [],
   "source": [
    "import numpy as np\n",
    "bins = [0, 2000, 4000, 6000, 8000, np.inf]\n",
    "labels = ['Low Return', 'Below Avg Return', 'Avg Return', 'Above Avg Return', 'High Return']"
   ]
  },
  {
   "cell_type": "code",
   "execution_count": 6,
   "id": "887dcc42",
   "metadata": {},
   "outputs": [
    {
     "data": {
      "text/html": [
       "<div>\n",
       "<style scoped>\n",
       "    .dataframe tbody tr th:only-of-type {\n",
       "        vertical-align: middle;\n",
       "    }\n",
       "\n",
       "    .dataframe tbody tr th {\n",
       "        vertical-align: top;\n",
       "    }\n",
       "\n",
       "    .dataframe thead th {\n",
       "        text-align: right;\n",
       "    }\n",
       "</style>\n",
       "<table border=\"1\" class=\"dataframe\">\n",
       "  <thead>\n",
       "    <tr style=\"text-align: right;\">\n",
       "      <th></th>\n",
       "      <th>Species</th>\n",
       "      <th>Population</th>\n",
       "      <th>Count</th>\n",
       "      <th>Count Category</th>\n",
       "    </tr>\n",
       "  </thead>\n",
       "  <tbody>\n",
       "    <tr>\n",
       "      <th>0</th>\n",
       "      <td>Chinook</td>\n",
       "      <td>Skokomish</td>\n",
       "      <td>1208</td>\n",
       "      <td>Low Return</td>\n",
       "    </tr>\n",
       "    <tr>\n",
       "      <th>1</th>\n",
       "      <td>Chun</td>\n",
       "      <td>Lower Skokomish</td>\n",
       "      <td>2396</td>\n",
       "      <td>Below Avg Return</td>\n",
       "    </tr>\n",
       "    <tr>\n",
       "      <th>2</th>\n",
       "      <td>Coho</td>\n",
       "      <td>Skokomish</td>\n",
       "      <td>3220</td>\n",
       "      <td>Below Avg Return</td>\n",
       "    </tr>\n",
       "    <tr>\n",
       "      <th>3</th>\n",
       "      <td>Steelhead</td>\n",
       "      <td>Skokomish</td>\n",
       "      <td>6245</td>\n",
       "      <td>Above Avg Return</td>\n",
       "    </tr>\n",
       "    <tr>\n",
       "      <th>4</th>\n",
       "      <td>Bull Trout</td>\n",
       "      <td>SF Skokomish</td>\n",
       "      <td>8216</td>\n",
       "      <td>High Return</td>\n",
       "    </tr>\n",
       "  </tbody>\n",
       "</table>\n",
       "</div>"
      ],
      "text/plain": [
       "      Species       Population  Count    Count Category\n",
       "0     Chinook        Skokomish   1208        Low Return\n",
       "1        Chun  Lower Skokomish   2396  Below Avg Return\n",
       "2        Coho        Skokomish   3220  Below Avg Return\n",
       "3   Steelhead        Skokomish   6245  Above Avg Return\n",
       "4  Bull Trout     SF Skokomish   8216       High Return"
      ]
     },
     "execution_count": 6,
     "metadata": {},
     "output_type": "execute_result"
    }
   ],
   "source": [
    "df['Count Category'] = pd.cut(df['Count'], bins, labels = labels)\n",
    "df"
   ]
  },
  {
   "cell_type": "markdown",
   "id": "2409d623",
   "metadata": {},
   "source": [
    "### mapear espécies para o status de ameaçadas"
   ]
  },
  {
   "cell_type": "code",
   "execution_count": 7,
   "id": "1d459c41",
   "metadata": {},
   "outputs": [],
   "source": [
    "fed_status = {\"Chinook\": \"Threatened\",\n",
    "             \"Chum\": \"Not Warranted\",\n",
    "             \"Coho\": \"Not Warranted\",\n",
    "             \"Steelhead\": \"Threatened\"}"
   ]
  },
  {
   "cell_type": "code",
   "execution_count": 8,
   "id": "b3853785",
   "metadata": {},
   "outputs": [
    {
     "data": {
      "text/html": [
       "<div>\n",
       "<style scoped>\n",
       "    .dataframe tbody tr th:only-of-type {\n",
       "        vertical-align: middle;\n",
       "    }\n",
       "\n",
       "    .dataframe tbody tr th {\n",
       "        vertical-align: top;\n",
       "    }\n",
       "\n",
       "    .dataframe thead th {\n",
       "        text-align: right;\n",
       "    }\n",
       "</style>\n",
       "<table border=\"1\" class=\"dataframe\">\n",
       "  <thead>\n",
       "    <tr style=\"text-align: right;\">\n",
       "      <th></th>\n",
       "      <th>Species</th>\n",
       "      <th>Population</th>\n",
       "      <th>Count</th>\n",
       "      <th>Count Category</th>\n",
       "      <th>Federal Status</th>\n",
       "    </tr>\n",
       "  </thead>\n",
       "  <tbody>\n",
       "    <tr>\n",
       "      <th>0</th>\n",
       "      <td>Chinook</td>\n",
       "      <td>Skokomish</td>\n",
       "      <td>1208</td>\n",
       "      <td>Low Return</td>\n",
       "      <td>Threatened</td>\n",
       "    </tr>\n",
       "    <tr>\n",
       "      <th>1</th>\n",
       "      <td>Chun</td>\n",
       "      <td>Lower Skokomish</td>\n",
       "      <td>2396</td>\n",
       "      <td>Below Avg Return</td>\n",
       "      <td>NaN</td>\n",
       "    </tr>\n",
       "    <tr>\n",
       "      <th>2</th>\n",
       "      <td>Coho</td>\n",
       "      <td>Skokomish</td>\n",
       "      <td>3220</td>\n",
       "      <td>Below Avg Return</td>\n",
       "      <td>Not Warranted</td>\n",
       "    </tr>\n",
       "    <tr>\n",
       "      <th>3</th>\n",
       "      <td>Steelhead</td>\n",
       "      <td>Skokomish</td>\n",
       "      <td>6245</td>\n",
       "      <td>Above Avg Return</td>\n",
       "      <td>Threatened</td>\n",
       "    </tr>\n",
       "    <tr>\n",
       "      <th>4</th>\n",
       "      <td>Bull Trout</td>\n",
       "      <td>SF Skokomish</td>\n",
       "      <td>8216</td>\n",
       "      <td>High Return</td>\n",
       "      <td>NaN</td>\n",
       "    </tr>\n",
       "  </tbody>\n",
       "</table>\n",
       "</div>"
      ],
      "text/plain": [
       "      Species       Population  Count    Count Category Federal Status\n",
       "0     Chinook        Skokomish   1208        Low Return     Threatened\n",
       "1        Chun  Lower Skokomish   2396  Below Avg Return            NaN\n",
       "2        Coho        Skokomish   3220  Below Avg Return  Not Warranted\n",
       "3   Steelhead        Skokomish   6245  Above Avg Return     Threatened\n",
       "4  Bull Trout     SF Skokomish   8216       High Return            NaN"
      ]
     },
     "execution_count": 8,
     "metadata": {},
     "output_type": "execute_result"
    }
   ],
   "source": [
    "df['Federal Status'] = df['Species'].map(fed_status)\n",
    "df"
   ]
  },
  {
   "cell_type": "markdown",
   "id": "fc2794ae",
   "metadata": {},
   "source": [
    "### introduzindo o tipo de dados categórico"
   ]
  },
  {
   "cell_type": "code",
   "execution_count": 9,
   "id": "06297fa6",
   "metadata": {},
   "outputs": [
    {
     "data": {
      "text/plain": [
       "0          Low Return\n",
       "1    Below Avg Return\n",
       "2    Below Avg Return\n",
       "3    Above Avg Return\n",
       "4         High Return\n",
       "Name: Count Category, dtype: category\n",
       "Categories (5, object): ['Low Return' < 'Below Avg Return' < 'Avg Return' < 'Above Avg Return' < 'High Return']"
      ]
     },
     "execution_count": 9,
     "metadata": {},
     "output_type": "execute_result"
    }
   ],
   "source": [
    "df['Count Category'] = pd.Categorical(df['Count Category'],\n",
    "                                     ordered = True,\n",
    "                                     categories = labels)\n",
    "df['Count Category']"
   ]
  },
  {
   "cell_type": "code",
   "execution_count": 10,
   "id": "2ca60736",
   "metadata": {},
   "outputs": [
    {
     "data": {
      "text/html": [
       "<div>\n",
       "<style scoped>\n",
       "    .dataframe tbody tr th:only-of-type {\n",
       "        vertical-align: middle;\n",
       "    }\n",
       "\n",
       "    .dataframe tbody tr th {\n",
       "        vertical-align: top;\n",
       "    }\n",
       "\n",
       "    .dataframe thead th {\n",
       "        text-align: right;\n",
       "    }\n",
       "</style>\n",
       "<table border=\"1\" class=\"dataframe\">\n",
       "  <thead>\n",
       "    <tr style=\"text-align: right;\">\n",
       "      <th></th>\n",
       "      <th>Species</th>\n",
       "      <th>Population</th>\n",
       "      <th>Count</th>\n",
       "      <th>Count Category</th>\n",
       "      <th>Federal Status</th>\n",
       "    </tr>\n",
       "  </thead>\n",
       "  <tbody>\n",
       "    <tr>\n",
       "      <th>4</th>\n",
       "      <td>Bull Trout</td>\n",
       "      <td>SF Skokomish</td>\n",
       "      <td>8216</td>\n",
       "      <td>High Return</td>\n",
       "      <td>NaN</td>\n",
       "    </tr>\n",
       "    <tr>\n",
       "      <th>3</th>\n",
       "      <td>Steelhead</td>\n",
       "      <td>Skokomish</td>\n",
       "      <td>6245</td>\n",
       "      <td>Above Avg Return</td>\n",
       "      <td>Threatened</td>\n",
       "    </tr>\n",
       "    <tr>\n",
       "      <th>1</th>\n",
       "      <td>Chun</td>\n",
       "      <td>Lower Skokomish</td>\n",
       "      <td>2396</td>\n",
       "      <td>Below Avg Return</td>\n",
       "      <td>NaN</td>\n",
       "    </tr>\n",
       "    <tr>\n",
       "      <th>2</th>\n",
       "      <td>Coho</td>\n",
       "      <td>Skokomish</td>\n",
       "      <td>3220</td>\n",
       "      <td>Below Avg Return</td>\n",
       "      <td>Not Warranted</td>\n",
       "    </tr>\n",
       "    <tr>\n",
       "      <th>0</th>\n",
       "      <td>Chinook</td>\n",
       "      <td>Skokomish</td>\n",
       "      <td>1208</td>\n",
       "      <td>Low Return</td>\n",
       "      <td>Threatened</td>\n",
       "    </tr>\n",
       "  </tbody>\n",
       "</table>\n",
       "</div>"
      ],
      "text/plain": [
       "      Species       Population  Count    Count Category Federal Status\n",
       "4  Bull Trout     SF Skokomish   8216       High Return            NaN\n",
       "3   Steelhead        Skokomish   6245  Above Avg Return     Threatened\n",
       "1        Chun  Lower Skokomish   2396  Below Avg Return            NaN\n",
       "2        Coho        Skokomish   3220  Below Avg Return  Not Warranted\n",
       "0     Chinook        Skokomish   1208        Low Return     Threatened"
      ]
     },
     "execution_count": 10,
     "metadata": {},
     "output_type": "execute_result"
    }
   ],
   "source": [
    "df.sort_values(by = ['Count Category'], ascending = False)"
   ]
  },
  {
   "cell_type": "markdown",
   "id": "a296d2fa",
   "metadata": {},
   "source": [
    "### get_dummies() para converter uma variável categórica em variável fictícia"
   ]
  },
  {
   "cell_type": "code",
   "execution_count": 11,
   "id": "3bb5e5bb",
   "metadata": {},
   "outputs": [
    {
     "data": {
      "text/html": [
       "<div>\n",
       "<style scoped>\n",
       "    .dataframe tbody tr th:only-of-type {\n",
       "        vertical-align: middle;\n",
       "    }\n",
       "\n",
       "    .dataframe tbody tr th {\n",
       "        vertical-align: top;\n",
       "    }\n",
       "\n",
       "    .dataframe thead th {\n",
       "        text-align: right;\n",
       "    }\n",
       "</style>\n",
       "<table border=\"1\" class=\"dataframe\">\n",
       "  <thead>\n",
       "    <tr style=\"text-align: right;\">\n",
       "      <th></th>\n",
       "      <th>Low Return</th>\n",
       "      <th>Below Avg Return</th>\n",
       "      <th>Avg Return</th>\n",
       "      <th>Above Avg Return</th>\n",
       "      <th>High Return</th>\n",
       "    </tr>\n",
       "  </thead>\n",
       "  <tbody>\n",
       "    <tr>\n",
       "      <th>0</th>\n",
       "      <td>True</td>\n",
       "      <td>False</td>\n",
       "      <td>False</td>\n",
       "      <td>False</td>\n",
       "      <td>False</td>\n",
       "    </tr>\n",
       "    <tr>\n",
       "      <th>1</th>\n",
       "      <td>False</td>\n",
       "      <td>True</td>\n",
       "      <td>False</td>\n",
       "      <td>False</td>\n",
       "      <td>False</td>\n",
       "    </tr>\n",
       "    <tr>\n",
       "      <th>2</th>\n",
       "      <td>False</td>\n",
       "      <td>True</td>\n",
       "      <td>False</td>\n",
       "      <td>False</td>\n",
       "      <td>False</td>\n",
       "    </tr>\n",
       "    <tr>\n",
       "      <th>3</th>\n",
       "      <td>False</td>\n",
       "      <td>False</td>\n",
       "      <td>False</td>\n",
       "      <td>True</td>\n",
       "      <td>False</td>\n",
       "    </tr>\n",
       "    <tr>\n",
       "      <th>4</th>\n",
       "      <td>False</td>\n",
       "      <td>False</td>\n",
       "      <td>False</td>\n",
       "      <td>False</td>\n",
       "      <td>True</td>\n",
       "    </tr>\n",
       "  </tbody>\n",
       "</table>\n",
       "</div>"
      ],
      "text/plain": [
       "   Low Return  Below Avg Return  Avg Return  Above Avg Return  High Return\n",
       "0        True             False       False             False        False\n",
       "1       False              True       False             False        False\n",
       "2       False              True       False             False        False\n",
       "3       False             False       False              True        False\n",
       "4       False             False       False             False         True"
      ]
     },
     "execution_count": 11,
     "metadata": {},
     "output_type": "execute_result"
    }
   ],
   "source": [
    "pd.get_dummies(df['Count Category'])"
   ]
  }
 ],
 "metadata": {
  "kernelspec": {
   "display_name": "Python 3 (ipykernel)",
   "language": "python",
   "name": "python3"
  },
  "language_info": {
   "codemirror_mode": {
    "name": "ipython",
    "version": 3
   },
   "file_extension": ".py",
   "mimetype": "text/x-python",
   "name": "python",
   "nbconvert_exporter": "python",
   "pygments_lexer": "ipython3",
   "version": "3.10.6"
  }
 },
 "nbformat": 4,
 "nbformat_minor": 5
}
